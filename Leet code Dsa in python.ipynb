{
 "cells": [
  {
   "cell_type": "code",
   "execution_count": 4,
   "metadata": {},
   "outputs": [
    {
     "name": "stdout",
     "output_type": "stream",
     "text": [
      "        * \n",
      "      *   * \n",
      "    *       * \n",
      "  *           * \n",
      "*               * \n"
     ]
    }
   ],
   "source": [
    "# print hollow half pyramid\n",
    "# take input from the keyboard \n",
    "n = int(input(\"Enter the value of n : \\n\"))\n",
    "# print row \n",
    "for row in range(n):\n",
    "     # print space\n",
    "     for col in range(n - row - 1):\n",
    "          print(\" \", end = \" \")\n",
    "          # print stars \n",
    "     for col in range(2 * row + 1):\n",
    "          # print first and last character\n",
    "          if col == 0 or col == 2 * row :\n",
    "               print(\"*\", end = \" \")\n",
    "          else:\n",
    "               print(\" \", end = \" \")\n",
    "     print()"
   ]
  },
  {
   "cell_type": "code",
   "execution_count": 5,
   "metadata": {},
   "outputs": [
    {
     "name": "stdout",
     "output_type": "stream",
     "text": [
      "*                  *\n",
      "  *              *\n",
      "    *          *\n",
      "      *      *\n",
      "        *  *\n",
      "          *\n"
     ]
    }
   ],
   "source": [
    "# print half hollow pyramid\n",
    "n = int(input(\"Enter n : \\n\"))\n",
    "for row in range(n):\n",
    "     for col in range(row):\n",
    "          print(\" \", end=\" \")\n",
    "     for col in range(2* n - (2 * row + 1)):\n",
    "          if(col == 0 or col == 2 * n - 2 * row - 2):\n",
    "               print(\"*\", end=\"\")\n",
    "          else:\n",
    "               print(\" \", end=\" \")\n",
    "     print()"
   ]
  },
  {
   "cell_type": "code",
   "execution_count": 6,
   "metadata": {},
   "outputs": [
    {
     "name": "stdout",
     "output_type": "stream",
     "text": [
      "            * \n",
      "          *   * \n",
      "        *       * \n",
      "      *           * \n",
      "    *               * \n",
      "  *                   * \n",
      "*                       * \n",
      "*                      *\n",
      "  *                  *\n",
      "    *              *\n",
      "      *          *\n",
      "        *      *\n",
      "          *  *\n",
      "            *\n"
     ]
    }
   ],
   "source": [
    "# print hollow half pyramid\n",
    "# take input from the keyboard \n",
    "n = int(input(\"Enter the value of n : \\n\"))\n",
    "# print row \n",
    "for row in range(n):\n",
    "     # print space\n",
    "     for col in range(n - row - 1):\n",
    "          print(\" \", end = \" \")\n",
    "          # print stars \n",
    "     for col in range(2 * row + 1):\n",
    "          # print first and last character\n",
    "          if col == 0 or col == 2 * row :\n",
    "               print(\"*\", end = \" \")\n",
    "          else:\n",
    "               print(\" \", end = \" \")\n",
    "     print()\n",
    "     \n",
    "# print half hollow pyramid\n",
    "for row in range(n):\n",
    "     for col in range(row):\n",
    "          print(\" \", end=\" \")\n",
    "     for col in range(2* n - (2 * row + 1)):\n",
    "          if(col == 0 or col == 2 * n - 2 * row - 2):\n",
    "               print(\"*\", end=\"\")\n",
    "          else:\n",
    "               print(\" \", end=\" \")\n",
    "     print()"
   ]
  },
  {
   "cell_type": "code",
   "execution_count": 7,
   "metadata": {},
   "outputs": [
    {
     "name": "stdout",
     "output_type": "stream",
     "text": [
      "* * * * * * * * *   * * * * * * * * * \n",
      "* * * * * * * *       * * * * * * * * \n",
      "* * * * * * *           * * * * * * * \n",
      "* * * * * *               * * * * * * \n",
      "* * * * *                   * * * * * \n",
      "* * * *                       * * * * \n",
      "* * *                           * * * \n",
      "* *                               * * \n",
      "*                                   * \n",
      "*                                 * \n",
      "* *                             * * \n",
      "* * *                         * * * \n",
      "* * * *                     * * * * \n",
      "* * * * *                 * * * * * \n",
      "* * * * * *             * * * * * * \n",
      "* * * * * * *         * * * * * * * \n",
      "* * * * * * * *     * * * * * * * * \n",
      "* * * * * * * * * * * * * * * * * * \n"
     ]
    }
   ],
   "source": [
    "# Flipped solid pattern\n",
    "n = int(input(\"Enter n : \\n\"))\n",
    "for row in range(n):\n",
    "     # star print\n",
    "     for col in range(n-row):\n",
    "          print(\"*\", end=\" \")\n",
    "          # space print\n",
    "     for col in range(2*row+1):\n",
    "          print(\" \", end=\" \")\n",
    "     # star print\n",
    "     for col in range(n-row):\n",
    "          print(\"*\", end=\" \")\n",
    "     print()\n",
    "     \n",
    "for row in range(n):\n",
    "     # star print\n",
    "     for col in range(row + 1):\n",
    "          print(\"*\", end=\" \")\n",
    "          # space print\n",
    "     for col in range(2*n-2*row-2):\n",
    "          print(\" \", end=\" \")\n",
    "     # star print\n",
    "     for col in range(row + 1):\n",
    "          print(\"*\", end=\" \")\n",
    "     print()"
   ]
  },
  {
   "cell_type": "code",
   "execution_count": 8,
   "metadata": {},
   "outputs": [
    {
     "name": "stdout",
     "output_type": "stream",
     "text": [
      "      1 \n",
      "    2 2 \n",
      "  3 3 3 \n"
     ]
    }
   ],
   "source": [
    "# Fancy pattern\n",
    "n = int(input(\"Enter n : \\n\"))\n",
    "for row in range(n):\n",
    "     for col in range(n-row):\n",
    "          print(\" \", end=\" \")\n",
    "     for col in range(row + 1):\n",
    "          print(row + 1, end=\" \")\n",
    "     print()"
   ]
  },
  {
   "cell_type": "code",
   "execution_count": 9,
   "metadata": {},
   "outputs": [
    {
     "name": "stdout",
     "output_type": "stream",
     "text": [
      "          1 \n",
      "        2 * 2 \n",
      "      3 * 3 * 3 \n",
      "    4 * 4 * 4 * 4 \n",
      "  5 * 5 * 5 * 5 * 5 \n"
     ]
    }
   ],
   "source": [
    "# Fancy pattern 2\n",
    "n = int(input(\"Enter n : \\n\"))\n",
    "for row in range(n):\n",
    "     # print space\n",
    "     for col in range(n - row):\n",
    "          print(\" \", end = \" \")\n",
    "     for col in range(row + 1):\n",
    "          print(row + 1, end = \" \")\n",
    "          if col != row:\n",
    "               print(\"*\", end = \" \")\n",
    "     print()"
   ]
  },
  {
   "cell_type": "code",
   "execution_count": 10,
   "metadata": {},
   "outputs": [
    {
     "name": "stdout",
     "output_type": "stream",
     "text": [
      "6 * 6 * 6 * 6 * 6 * 6 \n",
      "  5 * 5 * 5 * 5 * 5 \n",
      "    4 * 4 * 4 * 4 \n",
      "      3 * 3 * 3 \n",
      "        2 * 2 \n",
      "          1 \n"
     ]
    }
   ],
   "source": [
    "# Fancy pattern 3\n",
    "n = int(input(\"Enter n : \\n\"))\n",
    "for row in range(n):\n",
    "     # print space\n",
    "     for col in range(row):\n",
    "          print(\" \", end = \" \")\n",
    "     for col in range(n - row):\n",
    "          print(n - row, end = \" \")\n",
    "          if col != n-row-1:\n",
    "               print(\"*\", end = \" \")\n",
    "     print()"
   ]
  },
  {
   "cell_type": "code",
   "execution_count": 11,
   "metadata": {},
   "outputs": [
    {
     "name": "stdout",
     "output_type": "stream",
     "text": [
      "              1 \n",
      "            2 * 2 \n",
      "          3 * 3 * 3 \n",
      "        4 * 4 * 4 * 4 \n",
      "      5 * 5 * 5 * 5 * 5 \n",
      "    6 * 6 * 6 * 6 * 6 * 6 \n",
      "  7 * 7 * 7 * 7 * 7 * 7 * 7 \n",
      "7 * 7 * 7 * 7 * 7 * 7 * 7 \n",
      "  6 * 6 * 6 * 6 * 6 * 6 \n",
      "    5 * 5 * 5 * 5 * 5 \n",
      "      4 * 4 * 4 * 4 \n",
      "        3 * 3 * 3 \n",
      "          2 * 2 \n",
      "            1 \n"
     ]
    }
   ],
   "source": [
    "# Fancy pattern 4\n",
    "n = int(input(\"Enter n : \\n\"))\n",
    "for row in range(n):\n",
    "     # print space\n",
    "     for col in range(n - row):\n",
    "          print(\" \", end = \" \")\n",
    "     for col in range(row + 1):\n",
    "          print(row + 1, end = \" \")\n",
    "          if col != row:\n",
    "               print(\"*\", end = \" \")\n",
    "     print()\n",
    "for row in range(n):\n",
    "     # print space\n",
    "     for col in range(row):\n",
    "          print(\" \", end = \" \")\n",
    "     for col in range(n - row):\n",
    "          print(n - row, end = \" \")\n",
    "          if col != n-row-1:\n",
    "               print(\"*\", end = \" \")\n",
    "     print()"
   ]
  },
  {
   "cell_type": "code",
   "execution_count": 12,
   "metadata": {},
   "outputs": [
    {
     "name": "stdout",
     "output_type": "stream",
     "text": [
      "Your Alphabet Palindromic pyramid is:\n",
      "A\n",
      "ABA\n",
      "ABCBA\n",
      "ABCDCBA\n",
      "ABCDEDCBA\n",
      "ABCDEFEDCBA\n",
      "ABCDEFGFEDCBA\n",
      "ABCDEFGHGFEDCBA\n"
     ]
    }
   ],
   "source": [
    "# Alphabatic palindrome pattern\n",
    "n = int(input(\"Enter number of characters: \"))\n",
    "\n",
    "print(\"Your Alphabet Palindromic pyramid is:\")\n",
    "\n",
    "for row in range(n):\n",
    "    for col in range(row + 1):\n",
    "        ans = col + 1\n",
    "        ch = chr(ans + ord('A') - 1)\n",
    "        print(ch, end=\"\")\n",
    "\n",
    "    # reverse counting print\n",
    "    for col in range(row, 0, -1):\n",
    "        ans = col\n",
    "        ch = chr(ans + ord('A') - 1)\n",
    "        print(ch, end=\"\")\n",
    "\n",
    "    print()\n"
   ]
  },
  {
   "cell_type": "code",
   "execution_count": 13,
   "metadata": {},
   "outputs": [
    {
     "name": "stdout",
     "output_type": "stream",
     "text": [
      "The element is: 2\n"
     ]
    }
   ],
   "source": [
    "# Leet code question to remove duplicate from sorted array\n",
    "def remove_duplicates(nums):\n",
    "    insert_index = 1\n",
    "    for i in range(1, len(nums)):\n",
    "        if nums[i - 1] != nums[i]:\n",
    "            nums[insert_index] = nums[i]\n",
    "            insert_index += 1\n",
    "    return insert_index\n",
    "\n",
    "def main():\n",
    "    nums = [1, 1, 2]\n",
    "    insert_index = remove_duplicates(nums)\n",
    "    print(\"The element is:\", insert_index)\n",
    "\n",
    "if __name__ == \"__main__\":\n",
    "    main()\n"
   ]
  },
  {
   "cell_type": "code",
   "execution_count": 14,
   "metadata": {},
   "outputs": [
    {
     "name": "stdout",
     "output_type": "stream",
     "text": [
      "The key is: 3\n"
     ]
    }
   ],
   "source": [
    "def binary_search(arr, start, end, key):\n",
    "    if start > end:\n",
    "        return -1\n",
    "\n",
    "    mid = (start + end) // 2\n",
    "\n",
    "    if arr[mid] == key:\n",
    "        return mid\n",
    "\n",
    "    if arr[mid] < key:\n",
    "        start = mid + 1\n",
    "        return binary_search(arr, start, end, key)\n",
    "    else:\n",
    "        end = mid - 1\n",
    "        return binary_search(arr, start, end, key)\n",
    "\n",
    "# Main program\n",
    "arr = [10, 20, 30, 40, 50]\n",
    "start = 0\n",
    "end = len(arr) - 1\n",
    "key = 40\n",
    "\n",
    "ans = binary_search(arr, start, end, key)\n",
    "\n",
    "print(f\"The key is: {ans}\")\n"
   ]
  },
  {
   "cell_type": "code",
   "execution_count": 15,
   "metadata": {},
   "outputs": [
    {
     "name": "stdout",
     "output_type": "stream",
     "text": [
      "The key element is : 3\n"
     ]
    }
   ],
   "source": [
    "# Linear search\n",
    "def LinearSearch(nums, key):\n",
    "     for i in range(len(nums)):\n",
    "          if nums[i]==key:\n",
    "               return i\n",
    "     return - 1\n",
    "def main():\n",
    "     nums = [1,2,3,4,5,6]\n",
    "     key = 4\n",
    "     ans = LinearSearch(nums, key)\n",
    "     print(\"The key element is :\", ans)\n",
    "if __name__ == \"__main__\":\n",
    "     main()"
   ]
  },
  {
   "cell_type": "code",
   "execution_count": 16,
   "metadata": {},
   "outputs": [
    {
     "name": "stdout",
     "output_type": "stream",
     "text": [
      "The maximum consecutive ones are :  4\n"
     ]
    }
   ],
   "source": [
    "# maximum conscutive ones\n",
    "def maximumCountOnes(nums):\n",
    "     count = 0\n",
    "     maxi  = 0\n",
    "     for i in range(len(nums)):\n",
    "          if nums[i]==1:\n",
    "               count +=1\n",
    "               maxi = max(count, maxi)\n",
    "          else:\n",
    "               count = 0\n",
    "     return maxi\n",
    "\n",
    "def main():\n",
    "     nums = [1,1,1,1,0,1,0,1]\n",
    "     count = maximumCountOnes(nums)\n",
    "     print(\"The maximum consecutive ones are : \", count)\n",
    "     \n",
    "if __name__ == \"__main__\":\n",
    "     main()\n",
    "     \n",
    "               "
   ]
  },
  {
   "cell_type": "code",
   "execution_count": 17,
   "metadata": {},
   "outputs": [
    {
     "name": "stdout",
     "output_type": "stream",
     "text": [
      "Return True if array is sorted else return false  : True\n"
     ]
    }
   ],
   "source": [
    "# Write a program to find an array is sorted or not\n",
    "def isSorted(nums):\n",
    "     count = 0\n",
    "     n = len(nums)\n",
    "     for i in range(1,len(nums)):\n",
    "          if nums[i] < nums[i-1]:\n",
    "               count +=1\n",
    "     if nums[n - 1] > nums[i]:\n",
    "          count +=1\n",
    "     return count <= 1\n",
    "\n",
    "def main():\n",
    "     nums = [1,2,3,5,4]\n",
    "     ans  = isSorted(nums)\n",
    "     print(\"Return True if array is sorted else return false  :\", ans)\n",
    "\n",
    "if __name__ == \"__main__\":\n",
    "     main()"
   ]
  },
  {
   "cell_type": "code",
   "execution_count": 18,
   "metadata": {},
   "outputs": [
    {
     "name": "stdout",
     "output_type": "stream",
     "text": [
      "The number which does not present twice:  2\n"
     ]
    }
   ],
   "source": [
    "# Single Number in an array Brute force solution\n",
    "def TwiceNumber(arr):\n",
    "     for i in range(len(arr)):\n",
    "          nums = arr[i]\n",
    "          count = 0\n",
    "          for j in range(len(arr)):\n",
    "               if arr[j] == nums:\n",
    "                count +=1\n",
    "          if count == 1:\n",
    "               return nums\n",
    "     return -1\n",
    "\n",
    "def main():\n",
    "     arr = [1,1,2,3,3,4,4]\n",
    "     nums = TwiceNumber(arr)\n",
    "     print(\"The number which does not present twice: \", nums)\n",
    "     \n",
    "if __name__ == \"__main__\":\n",
    "     main() \n",
    "          "
   ]
  },
  {
   "cell_type": "code",
   "execution_count": 19,
   "metadata": {},
   "outputs": [
    {
     "name": "stdout",
     "output_type": "stream",
     "text": [
      "The single element is: 4\n"
     ]
    }
   ],
   "source": [
    "# Optimal solution of single number\n",
    "def getSingleElement(arr):\n",
    "    # XOR all the elements:\n",
    "    xorr = 0\n",
    "    for num in arr:\n",
    "        xorr ^= num\n",
    "    return xorr\n",
    "\n",
    "def main():\n",
    "    arr = [4, 1, 2, 1, 2]\n",
    "    ans = getSingleElement(arr)\n",
    "    print(\"The single element is:\", ans)\n",
    "\n",
    "if __name__ == \"__main__\":\n",
    "    main()"
   ]
  },
  {
   "cell_type": "code",
   "execution_count": 20,
   "metadata": {},
   "outputs": [
    {
     "name": "stdout",
     "output_type": "stream",
     "text": [
      "The length of the longest subarray is: 3\n"
     ]
    }
   ],
   "source": [
    "from typing import List\n",
    "\n",
    "def getLongestSubarray(a: [int], k: int) -> int:\n",
    "    n = len(a) # size of the array.\n",
    "\n",
    "    preSumMap = {}\n",
    "    Sum = 0\n",
    "    maxLen = 0\n",
    "    for i in range(n):\n",
    "        # calculate the prefix sum till index i:\n",
    "        Sum += a[i]\n",
    "\n",
    "        # if the sum = k, update the maxLen:\n",
    "        if Sum == k:\n",
    "            maxLen = max(maxLen, i + 1)\n",
    "\n",
    "        # calculate the sum of remaining part i.e. x-k:\n",
    "        rem = Sum - k\n",
    "\n",
    "        # Calculate the length and update maxLen:\n",
    "        if rem in preSumMap:\n",
    "            length = i - preSumMap[rem]\n",
    "            maxLen = max(maxLen, length)\n",
    "\n",
    "        # Finally, update the map checking the conditions:\n",
    "        if Sum not in preSumMap:\n",
    "            preSumMap[Sum] = i\n",
    "\n",
    "    return maxLen\n",
    "\n",
    "if __name__ == \"__main__\":\n",
    "\ta = [2, 3, 5, 1, 9]\n",
    "\tk = 10\n",
    "\n",
    "\tlength = getLongestSubarray(a, k)\n",
    "\tprint(f\"The length of the longest subarray is: {length}\")\n",
    "\n",
    "\n"
   ]
  },
  {
   "cell_type": "code",
   "execution_count": 21,
   "metadata": {},
   "outputs": [
    {
     "name": "stdout",
     "output_type": "stream",
     "text": [
      "The length of the longest subarray is: 3\n"
     ]
    }
   ],
   "source": [
    "from typing import List\n",
    "\n",
    "def getLongestSubarray(a: [int], k: int) -> int:\n",
    "    n = len(a) # size of the array.\n",
    "\n",
    "    left, right = 0, 0 # 2 pointers\n",
    "    Sum = a[0]\n",
    "    maxLen = 0\n",
    "    while right < n:\n",
    "        # if sum > k, reduce the subarray from left\n",
    "        # until sum becomes less or equal to k:\n",
    "        while left <= right and Sum > k:\n",
    "            Sum -= a[left]\n",
    "            left += 1\n",
    "\n",
    "        # if sum = k, update the maxLen i.e. answer:\n",
    "        if Sum == k:\n",
    "            maxLen = max(maxLen, right - left + 1)\n",
    "\n",
    "        # Move forward the right pointer:\n",
    "        right += 1\n",
    "        if right < n: Sum += a[right]\n",
    "\n",
    "    return maxLen\n",
    "\n",
    "\n",
    "if __name__ == \"__main__\":\n",
    "\ta = [2, 3, 5, 1, 9]\n",
    "\tk = 10\n",
    "\n",
    "\tlength = getLongestSubarray(a, k)\n",
    "\tprint(f\"The length of the longest subarray is: {length}\")\n",
    "\n",
    "\n"
   ]
  },
  {
   "cell_type": "code",
   "execution_count": 22,
   "metadata": {},
   "outputs": [],
   "source": [
    "def main():\n",
    "     n = int(input('Enter the number : \\n'))\n",
    "     counter = 1\n",
    "     while counter < n:\n",
    "          number = n * i\n",
    "          print(\"*\", counter, \"=\", number)\n",
    "          counter += 1"
   ]
  },
  {
   "cell_type": "code",
   "execution_count": 23,
   "metadata": {},
   "outputs": [
    {
     "name": "stdout",
     "output_type": "stream",
     "text": [
      "7 * 1 = 7\n",
      "7 * 2 = 14\n",
      "7 * 3 = 21\n",
      "7 * 4 = 28\n",
      "7 * 5 = 35\n",
      "7 * 6 = 42\n",
      "7 * 7 = 49\n",
      "7 * 8 = 56\n",
      "7 * 9 = 63\n",
      "7 * 10 = 70\n"
     ]
    }
   ],
   "source": [
    "number = int(input(\"Enter a number : \\n\"))\n",
    "i = 1\n",
    "while i < 11:\n",
    "     print(number, \"*\", i,  '=', number * i)\n",
    "     i += 1"
   ]
  }
 ],
 "metadata": {
  "kernelspec": {
   "display_name": "Python 3",
   "language": "python",
   "name": "python3"
  },
  "language_info": {
   "codemirror_mode": {
    "name": "ipython",
    "version": 3
   },
   "file_extension": ".py",
   "mimetype": "text/x-python",
   "name": "python",
   "nbconvert_exporter": "python",
   "pygments_lexer": "ipython3",
   "version": "3.10.8"
  }
 },
 "nbformat": 4,
 "nbformat_minor": 2
}
